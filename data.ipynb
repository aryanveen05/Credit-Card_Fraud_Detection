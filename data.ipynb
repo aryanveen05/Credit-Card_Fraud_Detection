{
 "cells": [
  {
   "cell_type": "code",
   "execution_count": 1,
   "id": "8246ae87",
   "metadata": {},
   "outputs": [],
   "source": [
    "import pandas as pd\n",
    "import numpy as np\n",
    "import matplotlib.pyplot as plt\n",
    "import seaborn as sns"
   ]
  },
  {
   "cell_type": "code",
   "execution_count": 2,
   "id": "2dacb899",
   "metadata": {},
   "outputs": [
    {
     "data": {
      "text/html": [
       "<div>\n",
       "<style scoped>\n",
       "    .dataframe tbody tr th:only-of-type {\n",
       "        vertical-align: middle;\n",
       "    }\n",
       "\n",
       "    .dataframe tbody tr th {\n",
       "        vertical-align: top;\n",
       "    }\n",
       "\n",
       "    .dataframe thead th {\n",
       "        text-align: right;\n",
       "    }\n",
       "</style>\n",
       "<table border=\"1\" class=\"dataframe\">\n",
       "  <thead>\n",
       "    <tr style=\"text-align: right;\">\n",
       "      <th></th>\n",
       "      <th>trans_date_trans_time</th>\n",
       "      <th>merchant</th>\n",
       "      <th>category</th>\n",
       "      <th>amt</th>\n",
       "      <th>city</th>\n",
       "      <th>state</th>\n",
       "      <th>lat</th>\n",
       "      <th>long</th>\n",
       "      <th>city_pop</th>\n",
       "      <th>job</th>\n",
       "      <th>dob</th>\n",
       "      <th>trans_num</th>\n",
       "      <th>merch_lat</th>\n",
       "      <th>merch_long</th>\n",
       "      <th>is_fraud</th>\n",
       "    </tr>\n",
       "  </thead>\n",
       "  <tbody>\n",
       "    <tr>\n",
       "      <th>0</th>\n",
       "      <td>2019-01-01 00:00:44</td>\n",
       "      <td>Heller, Gutmann and Zieme</td>\n",
       "      <td>grocery_pos</td>\n",
       "      <td>107.23</td>\n",
       "      <td>Orient</td>\n",
       "      <td>WA</td>\n",
       "      <td>48.8878</td>\n",
       "      <td>-118.2105</td>\n",
       "      <td>149</td>\n",
       "      <td>Special educational needs teacher</td>\n",
       "      <td>1978-06-21</td>\n",
       "      <td>1f76529f8574734946361c461b024d99</td>\n",
       "      <td>49.159047</td>\n",
       "      <td>-118.186462</td>\n",
       "      <td>0</td>\n",
       "    </tr>\n",
       "    <tr>\n",
       "      <th>1</th>\n",
       "      <td>2019-01-01 00:00:51</td>\n",
       "      <td>Lind-Buckridge</td>\n",
       "      <td>entertainment</td>\n",
       "      <td>220.11</td>\n",
       "      <td>Malad City</td>\n",
       "      <td>ID</td>\n",
       "      <td>42.1808</td>\n",
       "      <td>-112.2620</td>\n",
       "      <td>4154</td>\n",
       "      <td>Nature conservation officer</td>\n",
       "      <td>1962-01-19</td>\n",
       "      <td>a1a22d70485983eac12b5b88dad1cf95</td>\n",
       "      <td>43.150704</td>\n",
       "      <td>-112.154481</td>\n",
       "      <td>0</td>\n",
       "    </tr>\n",
       "    <tr>\n",
       "      <th>2</th>\n",
       "      <td>2019-01-01 00:07:27</td>\n",
       "      <td>Kiehn Inc</td>\n",
       "      <td>grocery_pos</td>\n",
       "      <td>96.29</td>\n",
       "      <td>Grenada</td>\n",
       "      <td>CA</td>\n",
       "      <td>41.6125</td>\n",
       "      <td>-122.5258</td>\n",
       "      <td>589</td>\n",
       "      <td>Systems analyst</td>\n",
       "      <td>1945-12-21</td>\n",
       "      <td>413636e759663f264aae1819a4d4f231</td>\n",
       "      <td>41.657520</td>\n",
       "      <td>-122.230347</td>\n",
       "      <td>0</td>\n",
       "    </tr>\n",
       "    <tr>\n",
       "      <th>3</th>\n",
       "      <td>2019-01-01 00:09:03</td>\n",
       "      <td>Beier-Hyatt</td>\n",
       "      <td>shopping_pos</td>\n",
       "      <td>7.77</td>\n",
       "      <td>High Rolls Mountain Park</td>\n",
       "      <td>NM</td>\n",
       "      <td>32.9396</td>\n",
       "      <td>-105.8189</td>\n",
       "      <td>899</td>\n",
       "      <td>Naval architect</td>\n",
       "      <td>1967-08-30</td>\n",
       "      <td>8a6293af5ed278dea14448ded2685fea</td>\n",
       "      <td>32.863258</td>\n",
       "      <td>-106.520205</td>\n",
       "      <td>0</td>\n",
       "    </tr>\n",
       "    <tr>\n",
       "      <th>4</th>\n",
       "      <td>2019-01-01 00:21:32</td>\n",
       "      <td>Bruen-Yost</td>\n",
       "      <td>misc_pos</td>\n",
       "      <td>6.85</td>\n",
       "      <td>Freedom</td>\n",
       "      <td>WY</td>\n",
       "      <td>43.0172</td>\n",
       "      <td>-111.0292</td>\n",
       "      <td>471</td>\n",
       "      <td>Education officer, museum</td>\n",
       "      <td>1967-08-02</td>\n",
       "      <td>f3c43d336e92a44fc2fb67058d5949e3</td>\n",
       "      <td>43.753735</td>\n",
       "      <td>-111.454923</td>\n",
       "      <td>0</td>\n",
       "    </tr>\n",
       "  </tbody>\n",
       "</table>\n",
       "</div>"
      ],
      "text/plain": [
       "  trans_date_trans_time                   merchant       category     amt  \\\n",
       "0   2019-01-01 00:00:44  Heller, Gutmann and Zieme    grocery_pos  107.23   \n",
       "1   2019-01-01 00:00:51             Lind-Buckridge  entertainment  220.11   \n",
       "2   2019-01-01 00:07:27                  Kiehn Inc    grocery_pos   96.29   \n",
       "3   2019-01-01 00:09:03                Beier-Hyatt   shopping_pos    7.77   \n",
       "4   2019-01-01 00:21:32                 Bruen-Yost       misc_pos    6.85   \n",
       "\n",
       "                       city state      lat      long  city_pop  \\\n",
       "0                    Orient    WA  48.8878 -118.2105       149   \n",
       "1                Malad City    ID  42.1808 -112.2620      4154   \n",
       "2                   Grenada    CA  41.6125 -122.5258       589   \n",
       "3  High Rolls Mountain Park    NM  32.9396 -105.8189       899   \n",
       "4                   Freedom    WY  43.0172 -111.0292       471   \n",
       "\n",
       "                                 job         dob  \\\n",
       "0  Special educational needs teacher  1978-06-21   \n",
       "1        Nature conservation officer  1962-01-19   \n",
       "2                    Systems analyst  1945-12-21   \n",
       "3                    Naval architect  1967-08-30   \n",
       "4          Education officer, museum  1967-08-02   \n",
       "\n",
       "                          trans_num  merch_lat  merch_long  is_fraud  \n",
       "0  1f76529f8574734946361c461b024d99  49.159047 -118.186462         0  \n",
       "1  a1a22d70485983eac12b5b88dad1cf95  43.150704 -112.154481         0  \n",
       "2  413636e759663f264aae1819a4d4f231  41.657520 -122.230347         0  \n",
       "3  8a6293af5ed278dea14448ded2685fea  32.863258 -106.520205         0  \n",
       "4  f3c43d336e92a44fc2fb67058d5949e3  43.753735 -111.454923         0  "
      ]
     },
     "execution_count": 2,
     "metadata": {},
     "output_type": "execute_result"
    }
   ],
   "source": [
    "main_df = pd.read_csv(\"credit_card_fraud.csv\", )\n",
    "main_df.head()"
   ]
  },
  {
   "cell_type": "code",
   "execution_count": 4,
   "id": "1a291758",
   "metadata": {},
   "outputs": [],
   "source": [
    "main_df = main_df.drop(columns=['trans_date_trans_time','merchant','category','city','state','job','dob','trans_num'])"
   ]
  },
  {
   "cell_type": "code",
   "execution_count": 5,
   "id": "c7c6c6f2",
   "metadata": {},
   "outputs": [
    {
     "data": {
      "text/html": [
       "<div>\n",
       "<style scoped>\n",
       "    .dataframe tbody tr th:only-of-type {\n",
       "        vertical-align: middle;\n",
       "    }\n",
       "\n",
       "    .dataframe tbody tr th {\n",
       "        vertical-align: top;\n",
       "    }\n",
       "\n",
       "    .dataframe thead th {\n",
       "        text-align: right;\n",
       "    }\n",
       "</style>\n",
       "<table border=\"1\" class=\"dataframe\">\n",
       "  <thead>\n",
       "    <tr style=\"text-align: right;\">\n",
       "      <th></th>\n",
       "      <th>amt</th>\n",
       "      <th>lat</th>\n",
       "      <th>long</th>\n",
       "      <th>city_pop</th>\n",
       "      <th>merch_lat</th>\n",
       "      <th>merch_long</th>\n",
       "      <th>is_fraud</th>\n",
       "    </tr>\n",
       "  </thead>\n",
       "  <tbody>\n",
       "    <tr>\n",
       "      <th>0</th>\n",
       "      <td>107.23</td>\n",
       "      <td>48.8878</td>\n",
       "      <td>-118.2105</td>\n",
       "      <td>149</td>\n",
       "      <td>49.159047</td>\n",
       "      <td>-118.186462</td>\n",
       "      <td>0</td>\n",
       "    </tr>\n",
       "    <tr>\n",
       "      <th>1</th>\n",
       "      <td>220.11</td>\n",
       "      <td>42.1808</td>\n",
       "      <td>-112.2620</td>\n",
       "      <td>4154</td>\n",
       "      <td>43.150704</td>\n",
       "      <td>-112.154481</td>\n",
       "      <td>0</td>\n",
       "    </tr>\n",
       "    <tr>\n",
       "      <th>2</th>\n",
       "      <td>96.29</td>\n",
       "      <td>41.6125</td>\n",
       "      <td>-122.5258</td>\n",
       "      <td>589</td>\n",
       "      <td>41.657520</td>\n",
       "      <td>-122.230347</td>\n",
       "      <td>0</td>\n",
       "    </tr>\n",
       "    <tr>\n",
       "      <th>3</th>\n",
       "      <td>7.77</td>\n",
       "      <td>32.9396</td>\n",
       "      <td>-105.8189</td>\n",
       "      <td>899</td>\n",
       "      <td>32.863258</td>\n",
       "      <td>-106.520205</td>\n",
       "      <td>0</td>\n",
       "    </tr>\n",
       "    <tr>\n",
       "      <th>4</th>\n",
       "      <td>6.85</td>\n",
       "      <td>43.0172</td>\n",
       "      <td>-111.0292</td>\n",
       "      <td>471</td>\n",
       "      <td>43.753735</td>\n",
       "      <td>-111.454923</td>\n",
       "      <td>0</td>\n",
       "    </tr>\n",
       "  </tbody>\n",
       "</table>\n",
       "</div>"
      ],
      "text/plain": [
       "      amt      lat      long  city_pop  merch_lat  merch_long  is_fraud\n",
       "0  107.23  48.8878 -118.2105       149  49.159047 -118.186462         0\n",
       "1  220.11  42.1808 -112.2620      4154  43.150704 -112.154481         0\n",
       "2   96.29  41.6125 -122.5258       589  41.657520 -122.230347         0\n",
       "3    7.77  32.9396 -105.8189       899  32.863258 -106.520205         0\n",
       "4    6.85  43.0172 -111.0292       471  43.753735 -111.454923         0"
      ]
     },
     "execution_count": 5,
     "metadata": {},
     "output_type": "execute_result"
    }
   ],
   "source": [
    "main_df.head()"
   ]
  },
  {
   "cell_type": "code",
   "execution_count": 6,
   "id": "a39480b1",
   "metadata": {},
   "outputs": [],
   "source": [
    "main_df.to_csv('processed_dataset.csv', index=False)"
   ]
  },
  {
   "cell_type": "code",
   "execution_count": 7,
   "id": "29d111f4",
   "metadata": {},
   "outputs": [
    {
     "data": {
      "text/plain": [
       "amt           0\n",
       "lat           0\n",
       "long          0\n",
       "city_pop      0\n",
       "merch_lat     0\n",
       "merch_long    0\n",
       "is_fraud      0\n",
       "dtype: int64"
      ]
     },
     "execution_count": 7,
     "metadata": {},
     "output_type": "execute_result"
    }
   ],
   "source": [
    "main_df.isna().sum()"
   ]
  },
  {
   "cell_type": "code",
   "execution_count": 8,
   "id": "da9108ad",
   "metadata": {},
   "outputs": [
    {
     "data": {
      "text/html": [
       "<div>\n",
       "<style scoped>\n",
       "    .dataframe tbody tr th:only-of-type {\n",
       "        vertical-align: middle;\n",
       "    }\n",
       "\n",
       "    .dataframe tbody tr th {\n",
       "        vertical-align: top;\n",
       "    }\n",
       "\n",
       "    .dataframe thead th {\n",
       "        text-align: right;\n",
       "    }\n",
       "</style>\n",
       "<table border=\"1\" class=\"dataframe\">\n",
       "  <thead>\n",
       "    <tr style=\"text-align: right;\">\n",
       "      <th></th>\n",
       "      <th>amt</th>\n",
       "      <th>lat</th>\n",
       "      <th>long</th>\n",
       "      <th>city_pop</th>\n",
       "      <th>merch_lat</th>\n",
       "      <th>merch_long</th>\n",
       "      <th>is_fraud</th>\n",
       "    </tr>\n",
       "  </thead>\n",
       "  <tbody>\n",
       "    <tr>\n",
       "      <th>0</th>\n",
       "      <td>107.23</td>\n",
       "      <td>48.8878</td>\n",
       "      <td>-118.2105</td>\n",
       "      <td>149</td>\n",
       "      <td>49.159047</td>\n",
       "      <td>-118.186462</td>\n",
       "      <td>0</td>\n",
       "    </tr>\n",
       "    <tr>\n",
       "      <th>1</th>\n",
       "      <td>220.11</td>\n",
       "      <td>42.1808</td>\n",
       "      <td>-112.2620</td>\n",
       "      <td>4154</td>\n",
       "      <td>43.150704</td>\n",
       "      <td>-112.154481</td>\n",
       "      <td>0</td>\n",
       "    </tr>\n",
       "    <tr>\n",
       "      <th>2</th>\n",
       "      <td>96.29</td>\n",
       "      <td>41.6125</td>\n",
       "      <td>-122.5258</td>\n",
       "      <td>589</td>\n",
       "      <td>41.657520</td>\n",
       "      <td>-122.230347</td>\n",
       "      <td>0</td>\n",
       "    </tr>\n",
       "    <tr>\n",
       "      <th>3</th>\n",
       "      <td>7.77</td>\n",
       "      <td>32.9396</td>\n",
       "      <td>-105.8189</td>\n",
       "      <td>899</td>\n",
       "      <td>32.863258</td>\n",
       "      <td>-106.520205</td>\n",
       "      <td>0</td>\n",
       "    </tr>\n",
       "    <tr>\n",
       "      <th>4</th>\n",
       "      <td>6.85</td>\n",
       "      <td>43.0172</td>\n",
       "      <td>-111.0292</td>\n",
       "      <td>471</td>\n",
       "      <td>43.753735</td>\n",
       "      <td>-111.454923</td>\n",
       "      <td>0</td>\n",
       "    </tr>\n",
       "  </tbody>\n",
       "</table>\n",
       "</div>"
      ],
      "text/plain": [
       "      amt      lat      long  city_pop  merch_lat  merch_long  is_fraud\n",
       "0  107.23  48.8878 -118.2105       149  49.159047 -118.186462         0\n",
       "1  220.11  42.1808 -112.2620      4154  43.150704 -112.154481         0\n",
       "2   96.29  41.6125 -122.5258       589  41.657520 -122.230347         0\n",
       "3    7.77  32.9396 -105.8189       899  32.863258 -106.520205         0\n",
       "4    6.85  43.0172 -111.0292       471  43.753735 -111.454923         0"
      ]
     },
     "execution_count": 8,
     "metadata": {},
     "output_type": "execute_result"
    }
   ],
   "source": [
    "main_df = pd.read_csv('processed_dataset.csv')\n",
    "main_df.head()"
   ]
  },
  {
   "cell_type": "code",
   "execution_count": 9,
   "id": "5b0d70c6",
   "metadata": {},
   "outputs": [
    {
     "data": {
      "text/plain": [
       "((339607, 6), (339607,))"
      ]
     },
     "execution_count": 9,
     "metadata": {},
     "output_type": "execute_result"
    }
   ],
   "source": [
    "X = main_df.drop('is_fraud', axis=1)\n",
    "y = main_df['is_fraud']\n",
    "X.shape, y.shape"
   ]
  },
  {
   "cell_type": "code",
   "execution_count": 10,
   "id": "2b569a57",
   "metadata": {},
   "outputs": [],
   "source": [
    "temp_df = main_df.copy()"
   ]
  },
  {
   "cell_type": "code",
   "execution_count": 11,
   "id": "4986d430",
   "metadata": {},
   "outputs": [
    {
     "data": {
      "text/plain": [
       "((339607, 6), (339607,))"
      ]
     },
     "execution_count": 11,
     "metadata": {},
     "output_type": "execute_result"
    }
   ],
   "source": [
    "from sklearn.preprocessing import StandardScaler\n",
    "\n",
    "standard = StandardScaler()\n",
    "amount = temp_df['amt'].values\n",
    "temp_df['amt'] = standard.fit_transform(amount.reshape(-1,1))\n",
    "X_scaled = temp_df.drop('is_fraud', axis=1)\n",
    "y_scaled = temp_df['is_fraud']\n",
    "X_scaled.shape, y_scaled.shape"
   ]
  },
  {
   "cell_type": "code",
   "execution_count": 12,
   "id": "bb63cc58",
   "metadata": {},
   "outputs": [
    {
     "data": {
      "text/html": [
       "<div>\n",
       "<style scoped>\n",
       "    .dataframe tbody tr th:only-of-type {\n",
       "        vertical-align: middle;\n",
       "    }\n",
       "\n",
       "    .dataframe tbody tr th {\n",
       "        vertical-align: top;\n",
       "    }\n",
       "\n",
       "    .dataframe thead th {\n",
       "        text-align: right;\n",
       "    }\n",
       "</style>\n",
       "<table border=\"1\" class=\"dataframe\">\n",
       "  <thead>\n",
       "    <tr style=\"text-align: right;\">\n",
       "      <th></th>\n",
       "      <th>amt</th>\n",
       "      <th>lat</th>\n",
       "      <th>long</th>\n",
       "      <th>city_pop</th>\n",
       "      <th>merch_lat</th>\n",
       "      <th>merch_long</th>\n",
       "      <th>is_fraud</th>\n",
       "    </tr>\n",
       "  </thead>\n",
       "  <tbody>\n",
       "    <tr>\n",
       "      <th>0</th>\n",
       "      <td>107.23</td>\n",
       "      <td>48.8878</td>\n",
       "      <td>-118.2105</td>\n",
       "      <td>149</td>\n",
       "      <td>49.159047</td>\n",
       "      <td>-118.186462</td>\n",
       "      <td>0</td>\n",
       "    </tr>\n",
       "    <tr>\n",
       "      <th>1</th>\n",
       "      <td>220.11</td>\n",
       "      <td>42.1808</td>\n",
       "      <td>-112.2620</td>\n",
       "      <td>4154</td>\n",
       "      <td>43.150704</td>\n",
       "      <td>-112.154481</td>\n",
       "      <td>0</td>\n",
       "    </tr>\n",
       "    <tr>\n",
       "      <th>2</th>\n",
       "      <td>96.29</td>\n",
       "      <td>41.6125</td>\n",
       "      <td>-122.5258</td>\n",
       "      <td>589</td>\n",
       "      <td>41.657520</td>\n",
       "      <td>-122.230347</td>\n",
       "      <td>0</td>\n",
       "    </tr>\n",
       "    <tr>\n",
       "      <th>3</th>\n",
       "      <td>7.77</td>\n",
       "      <td>32.9396</td>\n",
       "      <td>-105.8189</td>\n",
       "      <td>899</td>\n",
       "      <td>32.863258</td>\n",
       "      <td>-106.520205</td>\n",
       "      <td>0</td>\n",
       "    </tr>\n",
       "    <tr>\n",
       "      <th>4</th>\n",
       "      <td>6.85</td>\n",
       "      <td>43.0172</td>\n",
       "      <td>-111.0292</td>\n",
       "      <td>471</td>\n",
       "      <td>43.753735</td>\n",
       "      <td>-111.454923</td>\n",
       "      <td>0</td>\n",
       "    </tr>\n",
       "  </tbody>\n",
       "</table>\n",
       "</div>"
      ],
      "text/plain": [
       "      amt      lat      long  city_pop  merch_lat  merch_long  is_fraud\n",
       "0  107.23  48.8878 -118.2105       149  49.159047 -118.186462         0\n",
       "1  220.11  42.1808 -112.2620      4154  43.150704 -112.154481         0\n",
       "2   96.29  41.6125 -122.5258       589  41.657520 -122.230347         0\n",
       "3    7.77  32.9396 -105.8189       899  32.863258 -106.520205         0\n",
       "4    6.85  43.0172 -111.0292       471  43.753735 -111.454923         0"
      ]
     },
     "execution_count": 12,
     "metadata": {},
     "output_type": "execute_result"
    }
   ],
   "source": [
    "main_df.head()"
   ]
  },
  {
   "cell_type": "code",
   "execution_count": 13,
   "id": "3f489312",
   "metadata": {},
   "outputs": [
    {
     "data": {
      "text/html": [
       "<div>\n",
       "<style scoped>\n",
       "    .dataframe tbody tr th:only-of-type {\n",
       "        vertical-align: middle;\n",
       "    }\n",
       "\n",
       "    .dataframe tbody tr th {\n",
       "        vertical-align: top;\n",
       "    }\n",
       "\n",
       "    .dataframe thead th {\n",
       "        text-align: right;\n",
       "    }\n",
       "</style>\n",
       "<table border=\"1\" class=\"dataframe\">\n",
       "  <thead>\n",
       "    <tr style=\"text-align: right;\">\n",
       "      <th></th>\n",
       "      <th>is_fraud</th>\n",
       "      <th>Counts</th>\n",
       "    </tr>\n",
       "  </thead>\n",
       "  <tbody>\n",
       "    <tr>\n",
       "      <th>0</th>\n",
       "      <td>Normal</td>\n",
       "      <td>337825</td>\n",
       "    </tr>\n",
       "    <tr>\n",
       "      <th>1</th>\n",
       "      <td>Fraud</td>\n",
       "      <td>1782</td>\n",
       "    </tr>\n",
       "  </tbody>\n",
       "</table>\n",
       "</div>"
      ],
      "text/plain": [
       "  is_fraud  Counts\n",
       "0   Normal  337825\n",
       "1    Fraud    1782"
      ]
     },
     "execution_count": 13,
     "metadata": {},
     "output_type": "execute_result"
    }
   ],
   "source": [
    "class_count_df = pd.DataFrame(main_df['is_fraud'].value_counts().rename_axis('is_fraud').reset_index(name='Counts'))\n",
    "class_count_df['is_fraud'].replace({0:'Normal',\n",
    "                                 1:'Fraud'}, inplace=True)\n",
    "class_count_df.head()"
   ]
  },
  {
   "cell_type": "code",
   "execution_count": 87,
   "id": "4286f451",
   "metadata": {},
   "outputs": [
    {
     "name": "stderr",
     "output_type": "stream",
     "text": [
      "C:\\Users\\acer\\AppData\\Local\\Temp\\ipykernel_12060\\2347984588.py:12: UserWarning: FixedFormatter should only be used together with FixedLocator\n",
      "  ax.set_yticklabels(labels=labels.astype(int), c='blue', fontsize=8, fontweight='bold')\n"
     ]
    },
    {
     "data": {
      "image/png": "[encoded data removed]",
      "text/plain": [
       "<Figure size 600x500 with 1 Axes>"
      ]
     },
     "metadata": {},
     "output_type": "display_data"
    }
   ],
   "source": [
    "fig = plt.figure()\n",
    "fig.set_figheight(5)\n",
    "fig.set_figwidth(6)\n",
    "\n",
    "ax = sns.barplot(x=class_count_df['is_fraud'],\n",
    "                 y=class_count_df['Counts'])\n",
    "\n",
    "ax.bar_label(ax.containers[0], color='red') ## Showing Values at top of Each Bar.\n",
    "\n",
    "ax.set_xticklabels(labels=list(class_count_df['is_fraud']) ,c='blue',fontsize=10, fontweight='bold')\n",
    "labels, location = plt.yticks()\n",
    "ax.set_yticklabels(labels=labels.astype(int), c='blue', fontsize=8, fontweight='bold')\n",
    "\n",
    "plt.xlabel(xlabel='Type of Transactions', fontsize=14, fontweight='bold').set_color('purple')\n",
    "plt.ylabel(ylabel='Frequency', fontsize=14, fontweight='bold').set_color('purple')\n",
    "plt.title(label='Count Values of Normal vs Fraud Class', fontsize=24, fontweight='bold').set_color('purple')"
   ]
  },
  {
   "cell_type": "code",
   "execution_count": 88,
   "id": "75e6730a",
   "metadata": {},
   "outputs": [
    {
     "data": {
      "text/plain": [
       "((1782, 7), (337825, 7))"
      ]
     },
     "execution_count": 88,
     "metadata": {},
     "output_type": "execute_result"
    }
   ],
   "source": [
    "fraud = main_df[main_df['is_fraud'] == 1]\n",
    "normal = main_df[main_df['is_fraud'] == 0]\n",
    "fraud.shape, normal.shape"
   ]
  },
  {
   "cell_type": "code",
   "execution_count": 89,
   "id": "cfa2cdb8",
   "metadata": {},
   "outputs": [
    {
     "name": "stdout",
     "output_type": "stream",
     "text": [
      "Percentage of Fraud Tnx in datasets : 0.52%\n"
     ]
    }
   ],
   "source": [
    "fraud_frc = len(fraud)/float(len(main_df))\n",
    "print(f\"Percentage of Fraud Tnx in datasets : {fraud_frc*100:.2f}%\")"
   ]
  },
  {
   "cell_type": "code",
   "execution_count": 90,
   "id": "f296e69f",
   "metadata": {},
   "outputs": [
    {
     "data": {
      "image/png": "[encoded data removed]",
      "text/plain": [
       "<Figure size 640x480 with 2 Axes>"
      ]
     },
     "metadata": {},
     "output_type": "display_data"
    }
   ],
   "source": [
    "#HISTOGRAM\n",
    "fig, (ax0, ax1) = plt.subplots(nrows=2,\n",
    "                               ncols=1,\n",
    "                               sharex=True)\n",
    "fig.suptitle(\"Variation of Amount per Class\", color='green')\n",
    "bins=50\n",
    "ax0.hist(fraud['amt'], bins=bins, color='red')\n",
    "ax0.set_title('Fraud')\n",
    "ax0.set_ylim(0, 100)\n",
    "ax0.set_ylabel('No. of Transactions')\n",
    "\n",
    "ax1.hist(normal['amt'], bins=bins, color='red')\n",
    "ax1.set_title('Normal')\n",
    "ax1.set_ylabel('No. of Transactions')\n",
    "\n",
    "plt.xlim(0, 20000)\n",
    "plt.xlabel('Amount ($)')\n",
    "plt.yscale('log')"
   ]
  },
  {
   "cell_type": "markdown",
   "id": "4b3bd7bf",
   "metadata": {},
   "source": [
    "## Handling Imbalanced Datasets."
   ]
  },
  {
   "cell_type": "code",
   "execution_count": 91,
   "id": "edf4f84a",
   "metadata": {},
   "outputs": [
    {
     "data": {
      "text/plain": [
       "0    337825\n",
       "1      1782\n",
       "Name: is_fraud, dtype: int64"
      ]
     },
     "execution_count": 91,
     "metadata": {},
     "output_type": "execute_result"
    }
   ],
   "source": [
    "main_df.is_fraud.value_counts()"
   ]
  },
  {
   "cell_type": "markdown",
   "id": "d0f50d02",
   "metadata": {},
   "source": [
    "### OverSampling"
   ]
  },
  {
   "cell_type": "code",
   "execution_count": 62,
   "id": "2e22825a",
   "metadata": {},
   "outputs": [
    {
     "data": {
      "text/plain": [
       "1    339607\n",
       "0    337825\n",
       "Name: is_fraud, dtype: int64"
      ]
     },
     "execution_count": 62,
     "metadata": {},
     "output_type": "execute_result"
    }
   ],
   "source": [
    "from sklearn.utils import resample\n",
    "#create two different dataframe of majority and minority class \n",
    "df_majority = main_df[(main_df['is_fraud']==0)] \n",
    "df_minority = main_df[(main_df['is_fraud']==1)]\n",
    "\n",
    "# upsample minority class\n",
    "df_minority_oversampled = resample(df_minority,\n",
    "                                 replace=True,\n",
    "                                 n_samples=339607,\n",
    "                                 random_state=42)\n",
    "# Combine majority class with upsampled minority class\n",
    "df_oversampled = pd.concat([df_minority_oversampled, df_majority])\n",
    "df_oversampled.is_fraud.value_counts()"
   ]
  },
  {
   "cell_type": "code",
   "execution_count": 63,
   "id": "8d6ad40a",
   "metadata": {},
   "outputs": [
    {
     "data": {
      "text/plain": [
       "((677432, 6), (677432,))"
      ]
     },
     "execution_count": 63,
     "metadata": {},
     "output_type": "execute_result"
    }
   ],
   "source": [
    "#Final oversampled Dataset\n",
    "X_oversampled = df_oversampled.drop('is_fraud', axis=1)\n",
    "y_oversampled = df_oversampled['is_fraud']\n",
    "X_oversampled.shape, y_oversampled.shape"
   ]
  },
  {
   "cell_type": "markdown",
   "id": "17821255",
   "metadata": {},
   "source": [
    "### Undersampling"
   ]
  },
  {
   "cell_type": "code",
   "execution_count": 64,
   "id": "96d79ece",
   "metadata": {
    "collapsed": true
   },
   "outputs": [
    {
     "name": "stdout",
     "output_type": "stream",
     "text": [
      "Requirement already satisfied: imbalanced-learn in c:\\users\\acer\\anaconda3\\lib\\site-packages (0.12.3)\n",
      "Requirement already satisfied: numpy>=1.17.3 in c:\\users\\acer\\anaconda3\\lib\\site-packages (from imbalanced-learn) (1.21.5)\n",
      "Requirement already satisfied: joblib>=1.1.1 in c:\\users\\acer\\anaconda3\\lib\\site-packages (from imbalanced-learn) (1.4.2)\n",
      "Requirement already satisfied: scikit-learn>=1.0.2 in c:\\users\\acer\\anaconda3\\lib\\site-packages (from imbalanced-learn) (1.0.2)\n",
      "Requirement already satisfied: scipy>=1.5.0 in c:\\users\\acer\\anaconda3\\lib\\site-packages (from imbalanced-learn) (1.9.1)\n",
      "Requirement already satisfied: threadpoolctl>=2.0.0 in c:\\users\\acer\\anaconda3\\lib\\site-packages (from imbalanced-learn) (2.2.0)\n"
     ]
    }
   ],
   "source": [
    "!pip install imbalanced-learn"
   ]
  },
  {
   "cell_type": "code",
   "execution_count": 65,
   "id": "497410c5",
   "metadata": {},
   "outputs": [
    {
     "name": "stdout",
     "output_type": "stream",
     "text": [
      "The number of Classes before the fit Counter({0: 337825, 1: 1782})\n",
      "The number of Classes after the fit Counter({0: 1782, 1: 1782})\n"
     ]
    }
   ],
   "source": [
    "from imblearn.under_sampling import RandomUnderSampler\n",
    "from collections import Counter\n",
    "\n",
    "rus = RandomUnderSampler(random_state=42)\n",
    "\n",
    "X_undersampled, y_undersampled = rus.fit_resample(X, y)\n",
    "print(f\"The number of Classes before the fit {Counter(y)}\")\n",
    "print(f\"The number of Classes after the fit {Counter(y_undersampled)}\")"
   ]
  },
  {
   "cell_type": "markdown",
   "id": "c6f3e19d",
   "metadata": {},
   "source": [
    "### SMOTE"
   ]
  },
  {
   "cell_type": "code",
   "execution_count": 66,
   "id": "56716d99",
   "metadata": {},
   "outputs": [
    {
     "data": {
      "text/plain": [
       "(675650, 6)"
      ]
     },
     "execution_count": 66,
     "metadata": {},
     "output_type": "execute_result"
    }
   ],
   "source": [
    "from imblearn.over_sampling import SMOTE\n",
    "\n",
    "# Resampling the minority class.\n",
    "\n",
    "sm = SMOTE(sampling_strategy='minority', random_state=42)\n",
    "\n",
    "# Fit the model to generate the data.\n",
    "\n",
    "X_smote, y_smote = sm.fit_resample(main_df.drop('is_fraud', axis=1), main_df['is_fraud'])\n",
    "smote_df = pd.concat([pd.DataFrame(X_smote), pd.DataFrame(y_smote)], axis=1)\n",
    "X_smote.shape"
   ]
  },
  {
   "cell_type": "code",
   "execution_count": 67,
   "id": "f0b873d8",
   "metadata": {},
   "outputs": [
    {
     "data": {
      "text/plain": [
       "0    337825\n",
       "1    337825\n",
       "Name: is_fraud, dtype: int64"
      ]
     },
     "execution_count": 67,
     "metadata": {},
     "output_type": "execute_result"
    }
   ],
   "source": [
    "smote_df.is_fraud.value_counts()"
   ]
  },
  {
   "cell_type": "code",
   "execution_count": null,
   "id": "721ad69f",
   "metadata": {},
   "outputs": [],
   "source": []
  }
 ],
 "metadata": {
  "kernelspec": {
   "display_name": "Python 3 (ipykernel)",
   "language": "python",
   "name": "python3"
  },
  "language_info": {
   "codemirror_mode": {
    "name": "ipython",
    "version": 3
   },
   "file_extension": ".py",
   "mimetype": "text/x-python",
   "name": "python",
   "nbconvert_exporter": "python",
   "pygments_lexer": "ipython3",
   "version": "3.9.13"
  }
 },
 "nbformat": 4,
 "nbformat_minor": 5
}
